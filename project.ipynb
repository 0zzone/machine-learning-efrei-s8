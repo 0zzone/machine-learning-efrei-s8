{
 "cells": [
  {
   "cell_type": "markdown",
   "metadata": {},
   "source": [
    "# Machine Learning - Final project"
   ]
  },
  {
   "cell_type": "code",
   "execution_count": 1,
   "metadata": {},
   "outputs": [],
   "source": [
    "import requests\n",
    "from bs4 import BeautifulSoup"
   ]
  },
  {
   "cell_type": "code",
   "execution_count": 2,
   "metadata": {},
   "outputs": [
    {
     "name": "stdout",
     "output_type": "stream",
     "text": [
      "176673\n",
      "1000004644\n",
      "257724\n",
      "47357\n",
      "314868\n",
      "318645\n",
      "285223\n",
      "313481\n",
      "325040\n",
      "1000009903\n"
     ]
    }
   ],
   "source": [
    "headers = {\n",
    "    \"User-Agent\": \"Mozilla/5.0 (Windows NT 10.0; Win64; x64)\"\n",
    "}\n",
    "base_url = \"https://allocine.fr/film\"\n",
    "\n",
    "response = requests.get(base_url, headers=headers)\n",
    "\n",
    "if response.status_code == 200:\n",
    "  soup = BeautifulSoup(response.text, 'html.parser')\n",
    "\n",
    "\n",
    "\n",
    "  films = soup.find_all(\"a\", class_=\"layer-link\")\n",
    "\n",
    "\n",
    "  for film in films:\n",
    "    id = film.get(\"href\").split(\"=\")[-1].split(\".html\")[0]\n",
    "    print(id)\n",
    "\n",
    "else:\n",
    "  print(f\"Failed to fetch the page. Status code: {response.status_code}\")"
   ]
  },
  {
   "cell_type": "code",
   "execution_count": null,
   "metadata": {},
   "outputs": [],
   "source": [
    "def get_number_of_pages(soup):\n",
    "  ch = str(soup.find_all(\"div\", class_=\"pagination-item-holder\")[0]).split(\"</span></div>\")[0]\n",
    "  pages = int(ch[len(ch)-2:])\n",
    "  return pages\n",
    "\n",
    "def get_reviews_from_page(page_number, soup):\n",
    "    tmp = []\n",
    "    url_to_scrap = f\"https://www.allocine.fr/film/fichefilm-61282/critiques/spectateurs/?page={page_number}\"\n",
    "    response = requests.get(url_to_scrap, headers=headers)\n",
    "    if response.status_code == 200:\n",
    "        soup = BeautifulSoup(response.text, 'html.parser')\n",
    "        containers = soup.find_all(\"div\", class_=\"review-card-review-holder\")\n",
    "        for container in containers:\n",
    "            rating = container.find(\"span\", class_=\"stareval-note\")\n",
    "            review = container.find(\"div\", class_=\"content-txt review-card-content\")\n",
    "            if rating and review:\n",
    "              for br in review.find_all(\"br\"):\n",
    "                  br.replace_with(\"\\n\")\n",
    "              tmp.append({rating.text.strip(): review.text.strip()})\n",
    "    return tmp\n",
    "\n",
    "def get_review_rating():\n",
    "  url = \"https://www.allocine.fr/film/fichefilm-61282/critiques/spectateurs/?page=1\"\n",
    "\n",
    "  response = requests.get(url, headers=headers)\n",
    "\n",
    "  if response.status_code == 200:\n",
    "    soup = BeautifulSoup(response.text, 'html.parser')\n",
    "\n",
    "    number_of_pages = get_number_of_pages(soup)\n",
    "\n",
    "    data = []\n",
    "    for n in range(1, number_of_pages+1):\n",
    "      data += get_reviews_from_page(n, soup)\n",
    "      break\n",
    "  \n",
    "    return data\n",
    "\n",
    "  else:\n",
    "    return []\n",
    "\n",
    "data = get_review_rating()\n"
   ]
  },
  {
   "cell_type": "code",
   "execution_count": 17,
   "metadata": {},
   "outputs": [
    {
     "data": {
      "text/plain": [
       "[{'5,0': 'Critique rédigée en Décembre 2009. \\nRéactualisée en Décembre 2022.\\n\\n11 ans après l\\'excellent \"Titanic\" James Cameron revenait enfin aux affaires avec cet ambitieux projet nommé \"Avatar\" et nous embarquait dans un monde visuellement somptueux, complexe et fascinant.\\n\\nLe réalisateur canadien nous en mettais une nouvelle fois plein la vue pendant plus de 2h30 qui passent à une allure folle et portée par des acteurs charismatiques et une BO grandiose (merci James Horner).\\n\\n Sans oublier un scénario certes, peu novateur mais d\\'une actualité de plus en plus criante plus de 10 ans plus tard. Et oui, prenez soin de l\\'environnement c\\'est pourtant pas compliqué à comprendre ! \\n\\nBref, Un vrai regal pour les yeux et les oreilles ! Une œuvre puissante et spectaculaire quoi qu\\'en disent les détracteurs.\\n\\nFrissonnant !'},\n",
       " {'5,0': 'Avatar...comment parler de ce film tout en restant calme ??! Bluffant, époustouflant, magnifique, épique, incroyable...!! Tant de mots à la fois pour désigner ce film, indéniablement la 8ème merveille du monde, un diamant brute, un monument du 7ème art du 21ème siècle ! \\nLorsque je l\\'ai découvert au cinéma à sa sortie en 2009, le film m\\'a littéralement scotché sur mon siège tant le spectacle était magnifique à tous les niveaux. Depuis je me suis procuré le DVD et revu plusieurs fois et pourtant chaque visionnage est une vraie redécouverte et me renvoi la même claque, toujours avec la même profondeur émotionnelle. Je sais même pas par quoi commencé tant il y a de choses à dire sur le film et ses richesses cinématographiques. ^^\\nBon, on va procéder dans l\\'ordre, déjà l\\'histoire, Avatar de James Cameron, c\\'est l\\'histoire de Jake Sully, un ancien marine ayant perdu ses jambes à l\\'armée qui se retrouve mutée sur la planète Pandora pour contribuer au projet \"Avatar\" à la place de son frère décédé. Cette mission militaire à pour objectif de coloniser les richesses et les matériaux rares de ce nouveau monde, cependant cette planète est habitée par les Na\\'vi, les êtres vivants de Pandora qui nourrissent une haine ancestrale pour ces \"colonisateurs\". Ainsi Jake prend part au projet qui consistent à transférer des esprits humains dans des clones fabriqués biologiquement sur le modèle des Na\\'vi, les Avatar dans le but d\\'approcher ses créatures jusqu\\'au jour ou il tombe sur la belle Neytiri qui le sauve. En restant à ses côtés, Jake va alors apprendre que les intentions des siens sont pas uniquement tournées vers la science...voilà pour le pitch de départ. Déjà rien que l\\'idée de base de ce film est super et relève quasiment du génie tant c\\'est inventif ! On part sur un film qui aborde l\\'univers de l\\'armée mixé à de la science fiction en abordant le thème des guerres de conquêtes. Un scénario qui explicitement n\\'est pas sans nous rappeler l\\'histoire des colonisateurs du nouveau monde avec la découverte de l\\'Amérique et le peuple des Amérindiens, d\\'ou un air de ressemblance avec une certaine Pocahontas de Disney. En fait c\\'est même totalement ça, on a ici affaire à une réécriture moderne de l\\'histoire de la colonisation et ça c\\'est une super idée, qui plus est Cameron y rajoute de la SF digne des plus grands film du genre. Avec du recule on peut l\\'affirmer, les effets spéciaux et la maîtrise des outils informatiques dans ce film pour l\\'époque sont juste hallucinant et témoignent directement du progrès des avancées technologiques. \\nPlus important encore et plus incroyable que l\\'intrigue, si ce film mérite d\\'être qualifié de chef d\\'oeuvre selon moi c\\'est parce que l\\'auteur à réussi à créer tout un univers, pièce par pièce sans oublier le moindre détail que ce soit la faune, la flore, les écosystèmes, mais aussi le peuple qui le compose: Les Na\\'vi, ces être extraterrestres/humanoïdes beaucoup plus grand que les êtres humains avec leurs pratiques, leurs propres valeurs et leurs croyances. Cameron est un vrai génie pour avoir pensé à tout ça ! Qui plus est si la comparaison avec la colonisation et les Indiens d\\'Amérique est très récurrente ça n\\'est pas un hasard car les Na\\'vi ressemblent beaucoup aux indiens, ils ne portent qu\\'un minimum de vêtements, se battent avec des lances, des arcs et des flèches, domptent la nature et vénèrent un dieu, tout ça loin de la technologie des hommes. On pourrai y voir une sorte de rejet de leur part du progrès des hommes et via la comparaison entre ces modes de vie une certaine critique de la technologie qui n\\'amène que malheur et destruction à la nature. Oui c\\'est vrai on à le droit à une bonne leçon d\\'écologie mais qui ici prend tous son sens et nous permet de nous rendre compte nous même des dégâts que nous faisons à notre monde. \\nNiveau visuel....c\\'est juste awesmome, wonderful ! les paysages de Pandora sont un vrai régal visuel ! riches en couleurs et aux décors exotiques multiples (la jungle, les montagnes aériennes, les cascades...) là aussi J.Cameron  ne fait pas dans la demi mesure en donnant de l\\'importance à chaque détail de son univers si insignifiant puisse t-il paraître en développant en plus des Na\\'vi de multiples espèces animales et végétales qui rendent \"l\\'exploration\" parfumée d\\'aventure absolument passionnante. On prend un réel plaisir devant chaque plan, on déguste sans en perdre une miette. \\nNiveau personnage, ils sont très bien développés et tous apportent quelque chose au récit. Jake le héros est intriguant, il suscite notre attention de part son vécu de combattant et c\\'est avec ses yeux qu\\'on découvre l\\'univers de Pandora. Neytiri, l\\'héroïne, un peu pareil, elle est essentielle dans l\\'apprentissage de Jake, c\\'est elle qui nous apprend les coutumes des Na\\'vi et leur mode de vie. Bien sur on aura encore affaire à [spoiler] une romance entre elle et Jake mais celle ci est très bien menée et le fait que les deux amants soient dans deux camps différents rend l\\'ensemble beau et poignant. Cameron n\\'en fait pas des couches en n\\'abusant pas du romantisme à l\\'eau de rose, c\\'est une romance normale mais abordé avec une évolution réaliste qui sonne très juste c\\'est très appréciable [spoiler].\\nPour les autres personnages ont à aussi le professeur Grace Augustine, un personnage utile par son caractère scientifique et très diplomatique, c\\'est elle qui incarne la voix de la raison, sa détermination est remarquable. Puis on a aussi d\\'autres personnages comme Norman le pote de Jake et Trudi la pilote qui même sans apporter beaucoup à l\\'intrigue ne sont pas négligés et trouvent leur moment pour briller dans le récit. Le jeu d\\'acteur est de grande qualité aussi, Sam Worthington, Zoé Saldana, Sigourney Weaver et Stephen Lang sont au top, ils prennent leur personnage très au sérieux, on ressent bien leur implication. Pour les version, VO/VF les 2 se valent selon moi donc à vous de choisir laquelle vous préférez.\\nNiveau scènes d\\'action on est servi, encore et encore, limite gavé mais on en redemande tellement on est pas rassasiés, tellement c\\'est spectaculaires, que ce soient les scènes de vole, les batailles terrestres ou aériennes, ça explose de tous les côté, l\\'ensemble avec une tension émotionnelle inouïe. \\nPour le coup ça n\\'a rien à envier à un opus de la saga Transformers, Cameron a montrer qu\\'il n\\'y a pas besoin de s\\'appeler Michael Bay pour ça.^^\\nLe film est très long, 2h40 à vu d\\'oeil on se dit qu\\'on va pas échapper à quelques moments d\\'ennui mais non même pas, je vous assure qu\\'une fois que vous êtes dedans vous voyez pas le temps passer tellement vous serez occupé à savourer la moindre richesse de ce film et une fois le générique arrivé, on a plus envie de repartir de la planète Pandora. Mais pour pouvoir y retourner...va falloir attendre 2017, ça va être long ! Voilà, bon en conclusion, Avatar c\\'est un film à voir absolument si vous ne l\\'avez pas encore vu, son succès est tout à fais justifié selon moi. Un incontournable ! Un très grand moment de cinéma ! 20/20'},\n",
       " {'5,0': 'Sans doute le plus beau et le plus inventif film de science fiction jamais réalisé. Le génial James Cameron habitué des chefs d’oeuvre signe là son oeuvre la plus remarquable tant techniquement que visuellement. Une création d’un univers sublime avec des images d’une beauté à couper le souffle,  une histoire qui melange  action, romantisme, romance et message humaniste et écologique.  Des acteurs malgré leur habillage technique au top niveau et au talent éclatant. On a au final l’oeuvre, un objet unique, un pur diamant de plaisir et d’émerveillement.'},\n",
       " {'5,0': \"Un film extraordinaire !\\nL'histoire est vraiment très bien pensée et l’univers de science fiction est juste génial !\\nSam Worthington est très convaincant et Zoe Saldana est très satisfaisante !\\nSigourney Weaver et Stephen Lang sont très bons et tous les autres acteurs sont très corrects !\\nLes Na'vi sont attachants et absolument très bien élaborés, chaque créature est convaincante et vraiment très bien conçue !\\nLes images sont absolument magnifiques avec des couleurs d’une grande beauté et les effets spéciaux sont vraiment grandioses !\\nLa 3D est superbe et les décors sont absolument sublimes !\\nLes paysages sont vraiment splendides et les lieux rencontrés sont très appréciables et absolument très bien réalisés, la planète Pandora est tout simplement très inventive et vraiment fabuleuse !\\nLes costumes sont formidables et certains acteurs sont absolument très bien maquillés ! \\nLes objets et équipements sont super et les véhicules sont très réussis !\\nL’ambiance est très plaisante et les musiques sont très bien composées !\\nLes scènes d'action sont vraiment très spectaculaires, on en prend plein les yeux comme pour l'incroyable final et il y a de l'émotion !\\nOn est vite touché par les agréables Na’vi et la morale écologique est absolument très bonne !\\nLes rebondissements sont très efficaces et l'aventure est vraiment entraînante !\\nUn film qui est donc un pur chef-d'oeuvre marquant avec des personnages sympathiques dans un environnement absolument époustouflant et vraiment très créatif, accompagné d’un esthétisme fantastique et c’est en plus un long métrage révolutionnaire de l’immersive technologie 3D pour le cinéma !\\nUn immense bravo à l’emblématique James Cameron qui est décidément très talentueux !\"},\n",
       " {'5,0': \"Qu dire d'Avatar, primo, il s'agit d'une des plus grandes expériences cinématographiques de ma vie. Secundo, jamais la 3D n'aura été aussi utile pour un film que dans celui-ci. Tertio, Avatar a été réalisé par un des mes réalisateurs favoris: James Cameron.\\nJe pense que si Avatar est l'un des meilleurs films de sciences-fiction. Pour moi, Avatar est un véritable chef-d’œuvre. Alors oui, le scénario est pas incroyable, mais après tout, c'est un peu la seul chose qu'on peut lui reprocher. Cependant, Avatar fait parti de ces rares films qui n'ont pas besoin d'un super scénario pour que je le considère comme étant un film grandiose. Parce que, à part ce petit bémol, tous, et je dis bien tous, dans ce film est parfait! Les effets-spéciaux, les acteurs très bon, la musique de James Horner (repose en paix génie), les scènes d'actions épiques, la morale. Mais le point le plus positif de ce film, c'est son univers. Même Tim Burton n'aurait pas fait mieux. James Cameron a carrément imaginé une planète, son système, le peuple qui y habite. L'univers est extrêmement riche! Et c'est surtout grâce à ça que je considère Cameron comme étant un génie! \\nJ'adore particulièrement la vision des N'avis, ils offrent une morale très légitime (d'ailleurs, Cameron donne toujours un très bonne morale, il n' y a qu'a voir les Terminator ou Abyss). Cameron a vraiment un don pour nous faire réfléchir sur l'écologie. \\nPour en revenir à l'histoire, elle est assez simple, alors pourquoi je dis qu'elle est génial, parce que, les personnages évolues énormément dans le film, Jake découvre la valeur de la nature et de la vie, tandis que Netery ouvre son cœur au fur et à mesure, si on saute 2h du film, on voit bien qu'elle a changé de comportement auprès des humains, au départ elle les ignores, et à la fin, elle fini par réagir à cette injustice. Bah oui, c'est pas flagrant, mais vraiment tous les personnages évolues. Et puis, le film n'est ni trop long, ni trop court, on a bien le temps de découvrir l'univers de la planète Pandora dans la première heure, (ce qui m’émerveille à chaque visionnage), et la dernière heure offre des scènes d'actions incroyables. C'est vraiment épique. Et au cinéma en 3D, je peux vous dire que vous êtes scotchés à votre siège! Bon après, la fin est assez classique \\nspoiler: \\nc'est les gentils Navis qui battent les méchants humains\\n\\n. Mais quand on y pense bien, quand on reprend le contexte du film, ça ne vous fais pas penser à la Seconde Guerre Mondiale? On pourrait imaginer les humains comme étant des Nazis qui réussissent à envahir des territoires de Pandora (comme quand ils ont envahis la France). Et les plusieurs clans de la planètes (comme s'il s'agissait des différents pays) font fassent à l'envahisseur. Dis comme ça, ça paraît logique non? Du coup, l'histoire prendrait une autre tournure. Enfin, moi j'imagine l'histoire comme ça (et c'est d'ailleurs pour ça que je la trouve géniale), après, libre à vous de penser le contraire... \\nBon en tout cas, Avatar est vraiment un film énorme, je passe un excellent moment à chaque fois que je le visionne. Bref, un véritable chef d’œuvre comme je les aime. 5/5 Voilà qui est dit!\"},\n",
       " {'5,0': \"Alors que dire sur ce film qui a explosé le box office , je l'ai trouvé plus que excellent pour moi c'est un chef-d'œuvre. Les decors, les effets speciaux sont vraiment magnifiques avec un beau scenario. James Cameron à vraiment réussi son film et pour ma part il m'as emmener sur une autre planète dont j'ai envie d'y retourner. Y a pas à dire James Cameron quand il réalise un film il le fait parfaitement bien .\"},\n",
       " {'5,0': \"Un chef-d'oeuvre, il n'y a pas d'autres mots. Quand on aime un tant soit peu le cinéma on ne peut pas nier que ce film est une oeuvre d'art unique, qui a demandé un travail incroyable, tant par la création d'un décor stupéfiant, d'une faune et d'une flore magnifiques, d'un langage Na'vi inventé de toute pièce et d'une qualité d'effet spéciaux jamais vu auparavant. Plus de 10 ans de travail pour un peu moins de 3h de film. James Cameron aime prendre son temps, et on ne va pas lui en vouloir. Le résultat est là, ses films ne sont jamais bâclés. Tout est pensé dans le moindre détail. Beaucoup pourront critiquer la faiblesse d'un scénario se voulant trop écolo, trop poncif. Mais c'est une histoire à l'échelle humaine dans une épopée extra-terrestre. La morale à beau être facile, elle critique l'aspect le plus grave de notre époque. Le profit prime sur le respect de l'environnement. Une morale écologique mais aussi une référence évidente à la colonisation de l'Amérique et au massacre des indiens. Certes rien n'est vraiment original dans cette trame scénaristique et je comprend qu'elle ne touche pas tout le monde. Néanmoins nul ne peut être insensible à tout ce qu'il y a autour. Le film émerveille par sa beauté et tiens en haleine dans ses scènes les plus épiques. Qui n'a rien ressenti quand Jake recouvre l'usage de ses jambes à travers son avatar, ou quand il fait son premier vol à dos d'Ikran ? Qui n'a pas frissonné quand il reconquiert la tribus en devenant Toruk Makto ou bien quand l'arbre maison est détruit ? Un film que l'on se doit de visionner en 3D (ou au moins en Blu-Ray) pour en accroitre le plaisir. Dans un restaurant gastronomique, on ne nous sert pas dans des assiettes en carton, alors on ne regarde pas Avatar sur son petit iPhone ou son ordinateur. Qu'il soit adoré ou détesté, force est de constater qu'il aura marqué l'histoire du cinéma. Ca n'est pas mon film préféré mais je peux dire objectivement qu'il y a d'un côté Avatar et de l'autre, le reste. James Cameron est un vrai artiste et ce ne sont pas les nombreux reports des suites du film qui vont m'enlever l'envie de les voir. Il me tarde de découvrir les nouveaux aspects de l'univers qu'il a brillamment créée. 20/20\"},\n",
       " {'4,5': \"Cette ressortie du phénomène Avatar arrive au meilleur moment : évidemment puisque la tant attendu suite sort en ce mois de décembre 2022, mais aussi et surtout parce que j'avais un très mauvais souvenir de ce film. Il faut quand même dire que je l'avais vu très jeune, et que peu de choses restait dans mon esprit, seulement quelques images. Mais rien n'était positif, à tel point que ma note avant ce revisionnage en salle était de 4/10.\\n\\nAvatar c'est en fait un merveilleux film, un blockbuster giga ambitieux, sortit il y a bientôt 15 ans, il n'a pas pris une ride (certes la version est remasterisée, mais quand même). Tout cet univers créé est absolument somptueux, toutes ces créatures, ces couleurs, cette mythologie, et même cette histoire d'amour (pas très original mais touchante). Et quand c'est James Cameron qui gère tout ça, ça ne peux qu'être un pur bonheur. \\n\\nJames Cameron est un virtuose, c'est un fait. Ok, il a accès à tout le budget dont il a besoin, mais très peu de monde aurait pu faire ce qu'il a réalisé avec Avatar. On est en permanence ébahi devant l'écran, que ce soit devant la beauté des forêts ou des montages suspendus de Pandora, mais aussi durant les incroyable scènes de combats. Il y a une intensité et un souffle épique impressionnant dans chacunes d'elles. Une impression d'être comme suspendu, c'est ultra aérien, grâce notamment à cette caméra se baladant toujours là où il le faut. Sur un grand écran de cinéma, c'est une expérience incroyable (et j'ai même pas essayé la 3D).\\n\\nReste le scénario et le contenu du film en lui même. Honnêtement, pas de quoi passer 3 pattes à un canard comme on dit. Ça ressemble par moment pas mal au mythe de Pocahontas, l'intro bien qu'agréable expédie des choses trop rapidement, comme par exemple ce qui s'est passé sur Terre, ou même des personnages. Il y a aussi quelques petites facilités, des changements d'avis un peu soudain. Et puis le méchant, kiffant, mais bordel de cliché.\\n\\nMais ce n'est pas vilain, et même si ca l'était, le film est tellement prenant et passe à une tel vitesse (il dure 2h40 pourtant), que ce ne serait même pas gênant. \\n\\nTout ça pour dire qu'il ne faut pas toujours se fier à de vieux souvenirs. Redonnez une chance à des films, surtout quand ils ressortent en salle. Et comme moi vous pourriez avoir une excellente surprise.\"},\n",
       " {'5,0': \"Avatar, ou l'histoire revisitée des colonisateurs à l'echelle de la galaxie.\\n\\nMêlant vrais acteurs et motion capture, ce film nous amène sur Pandora, planète recouverte d'une forêt luxuriante colonisée par la Terre pour un minerai précieux.\\nCette planète est peuplées d'animaux divers (normal) et d'indigènes humanoïdes, les Na'Vis. Ces derniers sont en conflit avec les colons.\\nBon, je ne vais pas raconter l'histoire, mais en gros, voici la trame de début.\\n\\nCe film est absolument magnifique. L'univers que Cameron à crée est vraiment incroyable.\\nLes Na'Vis sont crées avec un précision maximale, pour les rendre vraiment vivants.\\n\\nCameron a vraiment tout crée: une planète, sa composition, ses habitants, sa langue (1000 mots ont été crées), et il nous en raconte une petite partie de l'histoire en 2h45.\\n\\nLe scénario, je n'ai rien à y redire. Je ne comprend pas pourquoi c'est le point le plus critiqué (un des seuls d'ailleurs, avec le message écologistes véhiculé qui en agace beaucoup, eh eh..). Il est très soigné.\\nDans la première partie, on y découvre tout l'univers de Pandora; ses animaux, sa forêt, ses coutumes, la vie des Omaticayas, a travers l'apprentissage de Jake Sully. Petit a petit il se rapproche donc de Neytiri, jusqu’à l'intimité... la plus intime. Il ne sais plus distinguer sa vie humaine à sa vie d'Omaticaya. Il se perd, oubliant sa mission.\\n\\nEt dans la deuxième partie, PAF! La réalité le rattrape et le moment de choisir son camp est arrivé pour plusieurs des personnages.\\nLa guerre éclate donc dans la dernière heure, et Cameron nous fait profiter de combats et de scènes spectaculaires.\\n\\nLe spectaculaire est de toute façon présent de bout en bout.\\n\\nEt donc, l'univers de Pandora est tellement attachant que l'on a vraiment envie d'y rester.\\nC'est d'ailleurs bien car au début, on nous présentait bien les Na Vis comme des sauvages. Ce qui fait qu'avec Jake, on les découvre et on les aime.\\n\\nCe film aussi fait partie de ceux qui doivent compter sur ses acteurs. Sam Worthington est excellent, Zoe Saldana aussi, ce film la portera d'ailleurs sur le devant de la scène! Son rôle de Neytiri est parfait, le personnage qu'elle incarne est vraiment le meilleur du film, pour moi.  Le docteur Augustine est donc joué par Sigourney Weaver, bien connue.\\n\\nAvatar est donc pour moi réussi sur tous les points; l'histoire, l'univers, les effets spéciaux....tout y est! C'est beau.\\nC'est le film qui m'a fait le plus d'effet, mon film préféré et ca le restera longtemps.\\n\\nJ'attend la suite avec beaucoup d'impatience, mais aussi un peu d’appréhension, au vu des effets visuels en 2009, je suis bien curieux de voir ce que cela donnera en 2016.\"},\n",
       " {'2,5': 'Je l\\'ai revu récemment pour la première fois et comment dire, au cinéma j\\'avais été pris mais là, Avatar est finalement une sorte de Nanar à très gros budget. Au cinéma, la technique était bluffante, la direction artistique fabuleuse, la 3D sidérante, mais une fois ces \"artifices\" mis de côté et passés au filtre révélateur d\\'une simple TV, eh bien il reste une histoire niaise, des personnages vides, une morale caricaturale, un déroulement vu et revu mille et mille fois, des emprunts en veux-tu-en-voilà, et carrément un certain ennui parfois. Sincèrement je me demande ce que vont donner les suites?...'},\n",
       " {'3,0': \"Que dire d'Avatar ...\\nVu par des milliards de spectateurs à travers la planète, l'oeuvre de Sir James Cameron (que l'on ne présente plus) met en scène un monde unique en son genre : Pandora.\\nPandora dont le bestiaire, faune et flore, feraient pâlir le Seigneur des Anneaux ou encore World of Warcraft.  Avatar est desservi par un casting de stars xxl mené par Sam Worthington. On y retrouve avec joie Sigourney Weaver, plus connue pour son rôle de Ripley dans Alien.\\nAvec Avatar, James Cameron a voulu créer son propre Starwars next gen, à coup de renforts d'effets spéciaux jamais vus dans le monde du cinéma.\\n\\nspoiler: \\nNéanmoins, Avatar souffre de son scénario loin d'être original, décrié, souvent accusé de plagiat. Il reste plat, fade, et prévisible à souhait. Cette version alternative n'est rien de moins qu'un Poncahontas ou un Danse avec les loups en version SF dopé aux CGI à n'en plus finir.\\n\\n\\nAvatar mérite t-il deux autres suites ? J'en doute.\"},\n",
       " {'5,0': \"Une merveille.James Cameron signe ici l'un des plus grands films de science fiction de l'histoire,où les effets spéciaux et la richesse de l'univers laissent bouche bée. A voir et à revoir.\"},\n",
       " {'5,0': 'Un mot : EXCEPTIONNEL !! Ce film est une tuerie d\\'inventivité, de beauté et de poésie. James Cameron pourrait être le Tolkien du XXIème siècle (attendons de voir les suites pour juger). Le réalisateur a crée un monde vaste, aux innombrables espèces avec leur langue et leur croyance. Et c\\'est cet univers dans lequel on se retrouve plongé au travers d\\'un marine paraplégique qui utilise un Avatar pour se mêler à leur peuple, découvrir la forêt et tout ce qu\\'elle représente. Évidemment, pour tenir plus de 2h, il faut de l\\'action d\\'où la guerre que vont affronter les humains avec les na\\'vis. Les effets spéciaux sont incroyables et rien que pour ça, le film mérite d\\'être nommé \"chef d\\'oeuvre\".\\nBref : l\\'Homme aurait beaucoup à apprendre de ce peuple na\\'vi et du respect pour la nature qui nous entoure.'},\n",
       " {'4,0': 'On l\\'aura attendu, ce retour ! Douze ans que James Cameron nous ménageait pour son nouveau film (en fait 15 ans, le premier jet remonte à 1994). Depuis son explosion dans les 80\\'s le larron a réussi à faire de chacun de ses films un évènement. Quand il revient, ce n\\'est pas par la petite porte mais en défonçant la grande d\\'une ambition de giga-cinéma. Comme on peut l\\'imaginer, Avatar ne s\\'est pas fait plus dans la douceur qu\\'un Titanic. Sa réputation, le metteur en scène ne la doit pas uniquement à ses triomphes au Box-Office mais également à sa vision d\\'une force colossale. Celle d\\'un artisan qui construit les prototypes, invente les technologies sur lesquelles tous vont apprendre à se faire la main. Celle d\\'un conteur s\\'exprimant en récits dont l\\'épure mythologique nourrit les fantasmes de générations entières. Tout cela grâce à un équilibre parfait entre la profondeur et formalisme. De l\\'action, du drame, de l\\'humour, de l\\'histoire, de la science-fiction, du passé, du futur, du fun et du fond ; chez James Cameron, le cinéma est total ou n\\'est pas. Des exemples? Piochez au hasard dans sa filmographie.\\nAvatar ne déroge pas à la règle.\\n\\nSous couvert d\\'une nouvelle épopée spatiale, et d\\'un nouveau monde à découvrir, le réalisateur savait qu\\'il fallait repousser les limites. Il a donc imaginé son nouveau film comme l\\'acte de naissance d\\'un nouveau standard : la 3D. Il ne serait pas le premier : Le crime était presque parfait (1954) Les Dents de la Mer 3 (1983) ou Spy Kids 3 (2008) étaient déjà passés par là. Par contre, l\\'évènement serait d\\'une tout autre stature (budget monstre de 240 millions $) et fixerait l\\'horizon pour le cinéma à gros budget.\\n\\nBon, allons-y sans détour : Avatar est une date, incontestablement. Un, le film a bien suscité l\\'engouement que son format laissait présupposer. Deux, il signe le retour de James Cameron aux affaires. Trois, ses forces tout autant que ses faiblesses font du film un incontournable.\\nLes forces ? En premier lieu, une réalisation d\\'un enthousiasme presque juvénile. Cameron créé son propre univers et ses propres jouets, alors autant dire qu\\'il va les exploiter à fond. Forêt extra-terrestre luxuriante, créatures inconnues en pagaille, race humanoïde non répertoriée (les Na\\'vi\\') ; le sentiment de dépaysement est incontestable et ça fait un bien fou. Et pour aller encore plus loin, la caméra de Cameron est revigorée : vélocité, fluidité et précision comme un seul et même outil. Le résultat offre de nombreuses images et séquences fortes (imaginez un mix entre Hayao Miyazaki et George Lucas).\\n\\nLà où Avatar peut laisser (un peu) sur sa faim, c\\'est justement dans ce qu\\'il raconte au premier plan. Qu\\'on ne se raconte pas d\\'histoire : James Cameron n\\'est pas un scénariste révolutionnaire. Par contre, c\\'est un expert dans l\\'art de synthétiser les influences/craintes pour mieux les réinterpréter. Et très bien, en plus. De son propre aveu, Titanic avait été pitché aux studios comme \"Roméo et Juliette sur un bateau qui coule\". \\nDans le même ordre d\\'idées, ce nouvelle voyage pourrait être résumé en \"Pocahontas et un peu de Jurassic Park dans l\\'espace\". Il y a du vrai là-dedans mais s\\'en tenir là est malhonnête. Les détracteurs peuvent cambrer sur leurs positions, un simple comparatif mettra en avant autant de différences que de concordances. La thématique de la \\nspoiler: \\nrenaissance/transcendance\\n\\n, absente de la relecture Disney, est le premier moteur de son récit (jusqu\\'à rentrer en osmose avec la technologie utilisée pour le créer). \\nRayon surprises, c\\'est plus chiche convenons-en. Il manque ce grain de folie qui animait Aliens, Abyss et les deux Terminator. Mais au delà, combien d\\'œuvres S.F peuvent se targuer d\\'avoir renouvelé le schmilblick ? Matrix ou Inception n\\'ont rien (ré)inventé non plus, par contre l\\'un et l\\'autre ont su s\\'appuyer sur une forme singulière. Ce qui est également le cas ici.\\n\\nEn sons et en couleurs, Avatar en impose énormément. James Cameron peut être tranquille : il fait toujours partie des grands cinéastes post-modernes en activité. Et ils ne sont pas nombreux à pouvoir livrer un blockbuster aussi maousse qui pourtant envoie des coups à domicile. Ce n\\'est pas la première fois que le réalisateur décoche quelques flèches à la bannière étoilée (cf. Aliens, Abyss). Il s\\'en donne ici à cœur joie, dénonçant la destruction de l\\'environnement, questionnant son Histoire (exploitation,et massacres des indiens), l\\'ingérence dans les pays étrangers (Irak), l\\'appât du gain (Irak encore),...Pour un film aussi cher c\\'est plutôt rare. Donc, on ne va pas lui enlever ça. Sans compter que la métaphore d\\'une renaissance par le biais de ces fameux \"Avatar\" est en soi plutôt poétique.\\nLa version cinéma présente quelques coupes rendant l\\'introduction hachée. Un défaut réduit à trois fois rien sur la version longue, paradoxalement plus fluide et mieux aérée. le personnage de Sigourney Weaver ainsi que sa relation à Jake Sully y gagne en finesse. Pour les suites, j\\'espére des choix narratifs plus téméraires. Car c\\'est bien la seule et petite chose qui manque à Avatar pour rejoindre les hauts sommets.'},\n",
       " {'5,0': \"Je viens de le revoir. Mais quel film ! Les graphismes évidemment d'une qualité incroyable à sa sortie. l'histoire tellement prenante et belle. On a énormément d'empathie pour la population. 3h de film mais c'est tellement bien mis en scène que le temps file. Les acteurs sont bons que ce soit du rôle principal, secondaires mais aussi les méchants qui sont badass. Bref un classique.\"}]"
      ]
     },
     "execution_count": 17,
     "metadata": {},
     "output_type": "execute_result"
    }
   ],
   "source": [
    "data"
   ]
  }
 ],
 "metadata": {
  "kernelspec": {
   "display_name": "machine_learning_env",
   "language": "python",
   "name": "python3"
  },
  "language_info": {
   "codemirror_mode": {
    "name": "ipython",
    "version": 3
   },
   "file_extension": ".py",
   "mimetype": "text/x-python",
   "name": "python",
   "nbconvert_exporter": "python",
   "pygments_lexer": "ipython3",
   "version": "3.9.19"
  }
 },
 "nbformat": 4,
 "nbformat_minor": 2
}
